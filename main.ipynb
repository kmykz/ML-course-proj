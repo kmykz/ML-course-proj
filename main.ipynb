{
  "nbformat": 4,
  "nbformat_minor": 0,
  "metadata": {
    "colab": {
      "provenance": [],
      "mount_file_id": "1G8sD7Tzm9cVjnEpVQo1Bob4HSudwn9XP",
      "authorship_tag": "ABX9TyMoHLzX5hD22v+oAjq51PmE",
      "include_colab_link": true
    },
    "kernelspec": {
      "name": "python3",
      "display_name": "Python 3"
    },
    "language_info": {
      "name": "python"
    }
  },
  "cells": [
    {
      "cell_type": "markdown",
      "metadata": {
        "id": "view-in-github",
        "colab_type": "text"
      },
      "source": [
        "<a href=\"https://colab.research.google.com/github/kmykz/ML-course-proj/blob/main/main.ipynb\" target=\"_parent\"><img src=\"https://colab.research.google.com/assets/colab-badge.svg\" alt=\"Open In Colab\"/></a>"
      ]
    },
    {
      "cell_type": "code",
      "execution_count": 24,
      "metadata": {
        "id": "CJgJ5hcS3pME"
      },
      "outputs": [],
      "source": [
        "import pandas as pd\n",
        "from sklearn.metrics import accuracy_score,f1_score\n",
        "from sklearn.metrics import classification_report\n",
        "import matplotlib.pyplot as plt\n",
        "from imblearn.over_sampling import SMOTENC"
      ]
    },
    {
      "cell_type": "code",
      "source": [
        "df = pd.read_csv('drive/MyDrive/data/ML-data.csv')\n",
        "#df.head()\n",
        "#Commented this section for pushing to github to avoid data leak"
      ],
      "metadata": {
        "colab": {
          "base_uri": "https://localhost:8080/"
        },
        "id": "XhwQ7uZ94OOH",
        "outputId": "88f50b43-ce22-4930-cb0a-4a676e35a5f4"
      },
      "execution_count": 2,
      "outputs": [
        {
          "output_type": "stream",
          "name": "stderr",
          "text": [
            "<ipython-input-2-36bc3b93c58d>:1: DtypeWarning: Columns (28,29,31,33,35,37,39,41,43,47,49,51,55,57,59,61,63,65,67,69,71,77,79,81,83,85,87,91,93,95,97,101,103,105,107,109,136,137,139,140,145,148,153,156,161,163,164,168,169,171,172) have mixed types. Specify dtype option on import or set low_memory=False.\n",
            "  df = pd.read_csv('drive/MyDrive/data/ML-data.csv')\n"
          ]
        }
      ]
    },
    {
      "cell_type": "code",
      "source": [
        "def get_correlation(column_name):\n",
        "    return df[column_name].corr(df['Diabetes'])"
      ],
      "metadata": {
        "id": "NpwFz_Vr8S1W"
      },
      "execution_count": 3,
      "outputs": []
    },
    {
      "cell_type": "code",
      "source": [
        "print(get_correlation('[PVD)'))\n",
        "print(get_correlation('[Stent)'))\n",
        "print(get_correlation('[UTI)'))\n",
        "print(get_correlation('Age_at_Exam'))\n",
        "print(get_correlation('[Stroke)'))\n",
        "print(get_correlation('BMI'))\n",
        "print(get_correlation('FBS'))\n",
        "print(get_correlation('HTN'))\n",
        "print(get_correlation('[Cancer)'))\n",
        "print(get_correlation('[Arrhythmia)'))\n",
        "print(get_correlation('[Dialysis)'))\n",
        "print(get_correlation('[ESRD)'))\n",
        "print(get_correlation('[Sarcoma)'))\n",
        "print(get_correlation('[NAFLD)'))\n",
        "print(get_correlation('Year'))"
      ],
      "metadata": {
        "colab": {
          "base_uri": "https://localhost:8080/"
        },
        "id": "PNyahqiJ-xRA",
        "outputId": "9248fa1e-c5dd-46a1-99b8-d3bf61538045"
      },
      "execution_count": 4,
      "outputs": [
        {
          "output_type": "stream",
          "name": "stdout",
          "text": [
            "0.04770732058582107\n",
            "0.030160520300496964\n",
            "-0.03719811871837726\n",
            "0.19736368271324375\n",
            "0.04494157895710559\n",
            "0.19957524462389195\n",
            "0.6017546483237239\n",
            "0.20146933732699185\n",
            "-0.019839979117554137\n",
            "-0.020267519145971222\n",
            "0.039561225373166885\n",
            "0.043730664555074183\n",
            "0.010625023531554525\n",
            "0.011705509390944517\n",
            "0.041751189846110245\n"
          ]
        }
      ]
    },
    {
      "cell_type": "code",
      "source": [
        "#features to be kept\n",
        "features = ['Patient_ID','Age_at_Exam', 'Sex', 'BMI', 'FBS', 'HTN', '[Cancer)', '[Arrhythmia)', '[Dialysis)', '[ESRD)', '[Sarcoma)', '[NAFLD)', 'Year', '[PVD)', '[Stent)', '[UTI)', 'Diabetes']\n",
        "#filter the features\n",
        "df_fil = df[features]\n",
        "#for each patient_id keep the record with the minimum Year\n",
        "df_fil = df_fil.sort_values(by=['Patient_ID', 'Year'])\n",
        "df_fil = df_fil.drop_duplicates(subset=['Patient_ID'], keep='first')\n",
        "#print dimentions of df_fil\n",
        "print(df_fil.shape)\n",
        "#print classes and their numbers for Diabetes\n",
        "print(df_fil['Diabetes'].value_counts())\n",
        "#drop Year\n",
        "df_fil = df_fil.drop(columns=['Year', 'Patient_ID'])\n",
        "# replace unknown/NA/Nan and null values with -1\n",
        "df_fil = df_fil.fillna(-1)\n",
        "df_fil['Sex'] = df_fil['Sex'].replace('Male', 0)\n",
        "df_fil['Sex'] = df_fil['Sex'].replace('Female', 1)\n",
        "#divide training/test 20/10/70 randomly for test,validation, train\n",
        "from sklearn.model_selection import train_test_split\n",
        "df_train, df_test = train_test_split(df_fil, test_size=0.3, random_state=42)\n",
        "df_val, df_test = train_test_split(df_test, test_size=1/3, random_state=42)"
      ],
      "metadata": {
        "colab": {
          "base_uri": "https://localhost:8080/"
        },
        "id": "gDHEKiN2CMVY",
        "outputId": "606f547c-1d0a-495a-82e5-3d5319ee3cfb"
      },
      "execution_count": 26,
      "outputs": [
        {
          "output_type": "stream",
          "name": "stdout",
          "text": [
            "(171619, 17)\n",
            "Diabetes\n",
            "0    145699\n",
            "1     25920\n",
            "Name: count, dtype: int64\n"
          ]
        },
        {
          "output_type": "stream",
          "name": "stderr",
          "text": [
            "<ipython-input-26-f99c1847ccd0>:17: FutureWarning: Downcasting behavior in `replace` is deprecated and will be removed in a future version. To retain the old behavior, explicitly call `result.infer_objects(copy=False)`. To opt-in to the future behavior, set `pd.set_option('future.no_silent_downcasting', True)`\n",
            "  df_fil['Sex'] = df_fil['Sex'].replace('Female', 1)\n"
          ]
        }
      ]
    },
    {
      "cell_type": "code",
      "source": [
        "from sklearn.preprocessing import StandardScaler\n",
        "scaler = StandardScaler()\n",
        "df_train[['Age_at_Exam', 'BMI', 'FBS']] = scaler.fit_transform(df_train[['Age_at_Exam', 'BMI', 'FBS']])\n",
        "df_test[['Age_at_Exam', 'BMI', 'FBS']] = scaler.transform(df_test[['Age_at_Exam', 'BMI', 'FBS']])\n",
        "df_val[['Age_at_Exam', 'BMI', 'FBS']] = scaler.transform(df_val[['Age_at_Exam', 'BMI', 'FBS']])\n",
        "#Use diabetes as target\n",
        "y_train = df_train['Diabetes']\n",
        "y_test = df_test['Diabetes']\n",
        "y_val = df_val['Diabetes']\n",
        "#drop Diabetes from training/test\n",
        "df_train = df_train.drop(columns=['Diabetes'])\n",
        "df_test = df_test.drop(columns=['Diabetes'])\n",
        "df_val = df_val.drop(columns=['Diabetes'])\n",
        "print(y_train.value_counts())\n",
        "smote = SMOTENC(categorical_features=['Sex', 'HTN', '[Cancer)', '[Arrhythmia)', '[Dialysis)', '[ESRD)', '[Sarcoma)', '[NAFLD)', '[PVD)', '[Stent)', '[UTI)'], random_state=42)\n",
        "df_train, y_train = smote.fit_resample(df_train, y_train)\n",
        "print(y_train.value_counts())"
      ],
      "metadata": {
        "id": "tK2iCW8UrHAQ",
        "colab": {
          "base_uri": "https://localhost:8080/"
        },
        "outputId": "c67dffcf-a046-4b31-cb56-4ab57fa3b413"
      },
      "execution_count": 27,
      "outputs": [
        {
          "output_type": "stream",
          "name": "stdout",
          "text": [
            "Diabetes\n",
            "0    102089\n",
            "1     18044\n",
            "Name: count, dtype: int64\n",
            "Diabetes\n",
            "0    102089\n",
            "1    102089\n",
            "Name: count, dtype: int64\n"
          ]
        }
      ]
    },
    {
      "cell_type": "code",
      "source": [
        "#standardize BMI, Age, FBS\n",
        "\n",
        "#drop Diabetes from training/test\n",
        "\n",
        "#use KNN to predict Diabetes, use values [3,5,7,10]\n",
        "from sklearn.neighbors import KNeighborsClassifier\n",
        "k_vlas = [3,5,7,10]\n",
        "f1s = []\n",
        "best_f1 = 0\n",
        "best_k = 0\n",
        "for k in k_vlas:\n",
        "    knn = KNeighborsClassifier(n_neighbors=k)\n",
        "    knn.fit(df_train, y_train)\n",
        "    y_pred = knn.predict(df_val)\n",
        "    #print accuracy\n",
        "    res = f1_score(y_val, y_pred)\n",
        "    f1s.append(res)\n",
        "    print(\"F1 for k = {} is {}\".format(k, res))\n",
        "    if res > best_f1:\n",
        "        best_f1 = res\n",
        "        best_k = k\n",
        "print(\"Best F1 is {} for k = {}\".format(best_f1, best_k))\n",
        "#visualize\n",
        "\n",
        "plt.plot(k_vlas, f1s)\n",
        "plt.xlabel('k')\n",
        "plt.ylabel('F1 Score')\n",
        "plt.show()\n",
        "knn = KNeighborsClassifier(n_neighbors=best_k)\n",
        "knn.fit(df_train, y_train)\n",
        "y_pred = knn.predict(df_test)\n",
        "print(classification_report(y_test, y_pred))"
      ],
      "metadata": {
        "colab": {
          "base_uri": "https://localhost:8080/",
          "height": 700
        },
        "id": "VVATJ036AwmC",
        "outputId": "b266fc2c-c0e8-4718-e62d-180388ce7fd2"
      },
      "execution_count": 28,
      "outputs": [
        {
          "output_type": "stream",
          "name": "stdout",
          "text": [
            "F1 for k = 3 is 0.5511071348691567\n",
            "F1 for k = 5 is 0.5499892496237369\n",
            "F1 for k = 7 is 0.5544371987524809\n",
            "F1 for k = 10 is 0.579374624173181\n",
            "Best F1 is 0.579374624173181 for k = 10\n"
          ]
        },
        {
          "output_type": "display_data",
          "data": {
            "text/plain": [
              "<Figure size 640x480 with 1 Axes>"
            ],
            "image/png": "[encoded data removed]"
          },
          "metadata": {}
        },
        {
          "output_type": "stream",
          "name": "stdout",
          "text": [
            "              precision    recall  f1-score   support\n",
            "\n",
            "           0       0.94      0.86      0.90     14469\n",
            "           1       0.49      0.73      0.58      2693\n",
            "\n",
            "    accuracy                           0.84     17162\n",
            "   macro avg       0.72      0.79      0.74     17162\n",
            "weighted avg       0.87      0.84      0.85     17162\n",
            "\n"
          ]
        }
      ]
    },
    {
      "cell_type": "code",
      "source": [
        "#use decision trees to predict target\n",
        "from sklearn.tree import DecisionTreeClassifier\n",
        "max_dep = [None,2,4,8]\n",
        "f1s = []\n",
        "best_f1 = 0\n",
        "best_depth = 0\n",
        "for depth in max_dep:\n",
        "    dt = DecisionTreeClassifier(max_depth=depth,random_state=42)\n",
        "    dt.fit(df_train, y_train)\n",
        "    y_pred = dt.predict(df_val)\n",
        "    #print accuracy\n",
        "    res = f1_score(y_val, y_pred)\n",
        "    f1s.append(res)\n",
        "    print(\"F1 for depth = {} is {}\".format(depth, res))\n",
        "    if res > best_f1:\n",
        "        best_f1 = res\n",
        "        best_depth = depth\n",
        "print(\"Best F1 is {} for depth = {}\".format(best_f1, best_depth))\n",
        "#visualize\n",
        "max_dep[0] = 0\n",
        "plt.plot(max_dep, f1s)\n",
        "plt.xlabel('depth')\n",
        "plt.ylabel('F1 Score')\n",
        "plt.show()\n",
        "dt = DecisionTreeClassifier(max_depth=best_depth,random_state=42)\n",
        "dt.fit(df_train, y_train)\n",
        "y_pred = dt.predict(df_test)\n",
        "#print accuracy\n",
        "print(classification_report(y_test, y_pred))"
      ],
      "metadata": {
        "colab": {
          "base_uri": "https://localhost:8080/",
          "height": 700
        },
        "id": "61WBJFnKGksx",
        "outputId": "5ddc6a34-0ff9-42b7-dd12-ff874a354676"
      },
      "execution_count": 33,
      "outputs": [
        {
          "output_type": "stream",
          "name": "stdout",
          "text": [
            "F1 for depth = None is 0.5717437264454454\n",
            "F1 for depth = 2 is 0.6532251174711662\n",
            "F1 for depth = 4 is 0.6760279001468429\n",
            "F1 for depth = 8 is 0.6865141955835962\n",
            "Best F1 is 0.6865141955835962 for depth = 8\n"
          ]
        },
        {
          "output_type": "display_data",
          "data": {
            "text/plain": [
              "<Figure size 640x480 with 1 Axes>"
            ],
            "image/png": "[encoded data removed]"
          },
          "metadata": {}
        },
        {
          "output_type": "stream",
          "name": "stdout",
          "text": [
            "              precision    recall  f1-score   support\n",
            "\n",
            "           0       0.94      0.95      0.94     14469\n",
            "           1       0.70      0.66      0.68      2693\n",
            "\n",
            "    accuracy                           0.90     17162\n",
            "   macro avg       0.82      0.80      0.81     17162\n",
            "weighted avg       0.90      0.90      0.90     17162\n",
            "\n"
          ]
        }
      ]
    },
    {
      "cell_type": "code",
      "source": [
        "#performing random forests\n",
        "import xgboost as xgb\n",
        "from sklearn.ensemble import RandomForestClassifier\n",
        "\n",
        "rand_for = RandomForestClassifier(n_estimators=100, random_state=42)\n",
        "rand_for.fit(df_train, y_train)\n",
        "y_pred = rand_for.predict(df_test)\n",
        "print(classification_report(y_test, y_pred))"
      ],
      "metadata": {
        "colab": {
          "base_uri": "https://localhost:8080/"
        },
        "id": "HpBaICG7mJ5J",
        "outputId": "edc4acd1-6c1a-4252-92fd-ccbc8fabf0e2"
      },
      "execution_count": 34,
      "outputs": [
        {
          "output_type": "stream",
          "name": "stdout",
          "text": [
            "              precision    recall  f1-score   support\n",
            "\n",
            "           0       0.93      0.94      0.93     14469\n",
            "           1       0.65      0.64      0.65      2693\n",
            "\n",
            "    accuracy                           0.89     17162\n",
            "   macro avg       0.79      0.79      0.79     17162\n",
            "weighted avg       0.89      0.89      0.89     17162\n",
            "\n"
          ]
        }
      ]
    },
    {
      "cell_type": "code",
      "source": [
        "#performing XGboost\n",
        "xg_classifier = xgb.XGBClassifier()\n",
        "#remove [ from column names\n",
        "df_train.columns = df_train.columns.str.replace('[', '')\n",
        "df_test.columns = df_test.columns.str.replace('[', '')\n",
        "xg_classifier.fit(df_train, y_train)\n",
        "y_pred = xg_classifier.predict(df_test)\n",
        "print(classification_report(y_test, y_pred))"
      ],
      "metadata": {
        "colab": {
          "base_uri": "https://localhost:8080/"
        },
        "id": "r_80FNDJnPSl",
        "outputId": "470d8976-e8be-4986-ead9-c32f3b0f8e45"
      },
      "execution_count": 35,
      "outputs": [
        {
          "output_type": "stream",
          "name": "stdout",
          "text": [
            "              precision    recall  f1-score   support\n",
            "\n",
            "           0       0.94      0.95      0.94     14469\n",
            "           1       0.70      0.65      0.68      2693\n",
            "\n",
            "    accuracy                           0.90     17162\n",
            "   macro avg       0.82      0.80      0.81     17162\n",
            "weighted avg       0.90      0.90      0.90     17162\n",
            "\n"
          ]
        }
      ]
    }
  ]
}